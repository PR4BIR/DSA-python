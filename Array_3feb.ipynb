{
  "cells": [
    {
      "cell_type": "markdown",
      "metadata": {
        "id": "view-in-github",
        "colab_type": "text"
      },
      "source": [
        "<a href=\"https://colab.research.google.com/github/PR4BIR/DSA-in-Python/blob/main/Array_3feb.ipynb\" target=\"_parent\"><img src=\"https://colab.research.google.com/assets/colab-badge.svg\" alt=\"Open In Colab\"/></a>"
      ]
    },
    {
      "cell_type": "markdown",
      "metadata": {
        "id": "9vJSb_Gxxz9s"
      },
      "source": [
        "time complexity:O(n)"
      ]
    },
    {
      "cell_type": "markdown",
      "metadata": {
        "id": "8KAj0sU14KWA"
      },
      "source": [
        "1.Reversal of a  arraylist"
      ]
    },
    {
      "cell_type": "code",
      "execution_count": null,
      "metadata": {
        "colab": {
          "base_uri": "https://localhost:8080/"
        },
        "id": "pwj4blesri94",
        "outputId": "4fb4017f-a98c-48a0-9161-195bf0a5f4ff"
      },
      "outputs": [
        {
          "name": "stdout",
          "output_type": "stream",
          "text": [
            "[11, 8, 6, 4, 1]\n"
          ]
        }
      ],
      "source": [
        "#function definition\n",
        "def reverse(arr):\n",
        "  ans=[]\n",
        "  for i in range(1,len(arr)+1):\n",
        "    ans.append(arr[-i])\n",
        "  return ans\n",
        "\n",
        "#driver code\n",
        "arr=[1,4,6,8,11]\n",
        "result=reverse(arr)\n",
        "print(result)"
      ]
    },
    {
      "cell_type": "markdown",
      "metadata": {
        "id": "OR6GWfUy32GT"
      },
      "source": [
        "time com:O(n)\n",
        "\n",
        "space com:O(1)\n",
        "Two pointer approch"
      ]
    },
    {
      "cell_type": "code",
      "execution_count": null,
      "metadata": {
        "colab": {
          "base_uri": "https://localhost:8080/"
        },
        "id": "1WYgNA6F20fF",
        "outputId": "ae42869a-90d6-47ad-96bb-5c6b20f6889d"
      },
      "outputs": [
        {
          "name": "stdout",
          "output_type": "stream",
          "text": [
            "[11, 8, 6, 4, 1]\n"
          ]
        }
      ],
      "source": [
        "def reverse(arr):\n",
        "  n=len(arr)\n",
        "  i=0\n",
        "  j=n-1\n",
        "  while i<j:\n",
        "    arr[i],arr[j]=arr[j],arr[i]\n",
        "    i=i+1\n",
        "    j=j-1\n",
        "  return arr\n",
        "#driver code\n",
        "arr=[1,4,6,8,11]\n",
        "result=reverse(arr)\n",
        "print(result)"
      ]
    },
    {
      "cell_type": "code",
      "execution_count": null,
      "metadata": {
        "colab": {
          "base_uri": "https://localhost:8080/"
        },
        "id": "JIbzsdXOsra-",
        "outputId": "4194ff9e-f428-4c5c-f1f3-8d8364bdf787"
      },
      "outputs": [
        {
          "data": {
            "text/plain": [
              "5"
            ]
          },
          "execution_count": 2,
          "metadata": {},
          "output_type": "execute_result"
        }
      ],
      "source": [
        "list1=[2,4,5,6,12,13]\n",
        "list1[2]"
      ]
    },
    {
      "cell_type": "code",
      "execution_count": null,
      "metadata": {
        "colab": {
          "base_uri": "https://localhost:8080/"
        },
        "id": "h1lFFy4-tDp-",
        "outputId": "769df549-5565-4052-88fe-3a77bcb90b55"
      },
      "outputs": [
        {
          "data": {
            "text/plain": [
              "13"
            ]
          },
          "execution_count": 3,
          "metadata": {},
          "output_type": "execute_result"
        }
      ],
      "source": [
        "list1[-1]"
      ]
    },
    {
      "cell_type": "code",
      "execution_count": null,
      "metadata": {
        "colab": {
          "base_uri": "https://localhost:8080/"
        },
        "id": "lJyBnSFvtMIZ",
        "outputId": "de753716-c337-4acb-b897-7f7b3d273a8c"
      },
      "outputs": [
        {
          "data": {
            "text/plain": [
              "[13, 12, 6, 5, 4, 2]"
            ]
          },
          "execution_count": 4,
          "metadata": {},
          "output_type": "execute_result"
        }
      ],
      "source": [
        "list1[::-1]"
      ]
    },
    {
      "cell_type": "code",
      "execution_count": null,
      "metadata": {
        "colab": {
          "base_uri": "https://localhost:8080/"
        },
        "id": "pXoJnC1ntx-u",
        "outputId": "faaf0762-ab73-4fdf-9f9e-3bedf3553440"
      },
      "outputs": [
        {
          "data": {
            "text/plain": [
              "[13, 6, 4]"
            ]
          },
          "execution_count": 5,
          "metadata": {},
          "output_type": "execute_result"
        }
      ],
      "source": [
        "list1[::-2]"
      ]
    },
    {
      "cell_type": "code",
      "execution_count": null,
      "metadata": {
        "colab": {
          "base_uri": "https://localhost:8080/"
        },
        "id": "qT7vZnkiwoJF",
        "outputId": "9c4ce768-3278-41ad-ab1d-4bd2e16efd29"
      },
      "outputs": [
        {
          "data": {
            "text/plain": [
              "[4, 5]"
            ]
          },
          "execution_count": 9,
          "metadata": {},
          "output_type": "execute_result"
        }
      ],
      "source": [
        "list1[1:3]"
      ]
    },
    {
      "cell_type": "markdown",
      "metadata": {
        "id": "ciBdtp0jxyF6"
      },
      "source": [
        "time complexity:O(n)\n",
        "\n",
        "space complexity:O(1)"
      ]
    },
    {
      "cell_type": "code",
      "execution_count": null,
      "metadata": {
        "colab": {
          "base_uri": "https://localhost:8080/"
        },
        "id": "dJNp8VG8wDao",
        "outputId": "964ca05c-b5e4-4ef2-8409-3545520d8fc4"
      },
      "outputs": [
        {
          "data": {
            "text/plain": [
              "[13, 12, 6, 5, 4, 2]"
            ]
          },
          "execution_count": 8,
          "metadata": {},
          "output_type": "execute_result"
        }
      ],
      "source": [
        "list1[5::-1]"
      ]
    },
    {
      "cell_type": "code",
      "execution_count": null,
      "metadata": {
        "colab": {
          "base_uri": "https://localhost:8080/"
        },
        "id": "FCfZk-Giu0-e",
        "outputId": "d3e8189a-2c2f-498b-ecf4-16f55c0ca8cd"
      },
      "outputs": [
        {
          "data": {
            "text/plain": [
              "[2, 4, 5, 6, 12, 13]"
            ]
          },
          "execution_count": 6,
          "metadata": {},
          "output_type": "execute_result"
        }
      ],
      "source": [
        "list1[::]"
      ]
    },
    {
      "cell_type": "code",
      "execution_count": null,
      "metadata": {
        "colab": {
          "base_uri": "https://localhost:8080/"
        },
        "id": "vD2RNaMpu-ua",
        "outputId": "28a63017-0c47-4b5c-ea56-5b6d520de1b7"
      },
      "outputs": [
        {
          "data": {
            "text/plain": [
              "[2, 5, 12]"
            ]
          },
          "execution_count": 7,
          "metadata": {},
          "output_type": "execute_result"
        }
      ],
      "source": [
        "list1[::2]"
      ]
    },
    {
      "cell_type": "markdown",
      "metadata": {
        "id": "1_0ZWGOg48N5"
      },
      "source": [
        "2.To segregate even odd numbers"
      ]
    },
    {
      "cell_type": "markdown",
      "metadata": {
        "id": "MGErGu6h-xq5"
      },
      "source": [
        "time com:O(n)\n",
        "space com:O(1)\n",
        "two pointer partition approch"
      ]
    },
    {
      "cell_type": "code",
      "execution_count": null,
      "metadata": {
        "colab": {
          "base_uri": "https://localhost:8080/"
        },
        "id": "EXUXyv0r5FqS",
        "outputId": "5f6d8407-db4e-4147-8581-76a814683cc5"
      },
      "outputs": [
        {
          "name": "stdout",
          "output_type": "stream",
          "text": [
            "[2, 4, 6, 8, 3, 7, 5]\n"
          ]
        }
      ],
      "source": [
        "def segre(arr):\n",
        "  n=len(arr)\n",
        "  i=-1\n",
        "  j=0\n",
        "  while j !=n:\n",
        "    if(arr[j]%2==0):\n",
        "      i=i+1\n",
        "      arr[i],arr[j]=arr[j],arr[i]\n",
        "    j=j+1\n",
        "  return arr\n",
        "\n",
        "arr=[2,3,4,5,6,7,8]\n",
        "result=segre(arr)\n",
        "print(arr)"
      ]
    },
    {
      "cell_type": "markdown",
      "metadata": {
        "id": "Wp0w9w2i_Dgr"
      },
      "source": [
        "3.search element having =8 in an arry -> O(n)"
      ]
    },
    {
      "cell_type": "code",
      "execution_count": null,
      "metadata": {
        "colab": {
          "base_uri": "https://localhost:8080/"
        },
        "id": "opr8HM7ARgbw",
        "outputId": "18d38c36-2bf6-4257-8fed-36f9bd3cb210"
      },
      "outputs": [
        {
          "name": "stdout",
          "output_type": "stream",
          "text": [
            "3\n"
          ]
        }
      ],
      "source": [
        "def linearsearch(arr,x):\n",
        "  for i in range(len(arr)):\n",
        "    if arr[i] == x:\n",
        "      return i\n",
        "  return -1\n",
        "#Driver code\n",
        "arr=[2,4,6,8,10]\n",
        "x=8\n",
        "result=linearsearch(arr,x)\n",
        "print(result)"
      ]
    },
    {
      "cell_type": "markdown",
      "metadata": {
        "id": "HQUl-pkmS6UI"
      },
      "source": [
        "4.insertion of an element in an array"
      ]
    },
    {
      "cell_type": "code",
      "execution_count": null,
      "metadata": {
        "colab": {
          "base_uri": "https://localhost:8080/"
        },
        "id": "3QemLFEfTB1T",
        "outputId": "e42b5b8d-c4bd-4b3f-fee8-dd3ba043a8c2"
      },
      "outputs": [
        {
          "name": "stdout",
          "output_type": "stream",
          "text": [
            "[2, 5, 4, 6, 8, 10]\n"
          ]
        }
      ],
      "source": [
        "arr=[2,4,6,8,10]\n",
        "arr.insert(1,5)\n",
        "print(arr)"
      ]
    },
    {
      "cell_type": "markdown",
      "metadata": {
        "id": "UXYCWQKhTXzR"
      },
      "source": [
        "5.deletion"
      ]
    },
    {
      "cell_type": "code",
      "execution_count": 27,
      "metadata": {
        "colab": {
          "base_uri": "https://localhost:8080/"
        },
        "id": "BKDE-cDRTeHJ",
        "outputId": "33e4169e-7da9-49e6-ac07-d7aab3e243fe"
      },
      "outputs": [
        {
          "output_type": "stream",
          "name": "stdout",
          "text": [
            "[2, 4, 6, 8, 10]\n"
          ]
        }
      ],
      "source": [
        "arr.remove(5)\n",
        "print(arr)"
      ]
    },
    {
      "cell_type": "markdown",
      "source": [
        "6.2D array"
      ],
      "metadata": {
        "id": "rr1gF0hNU-7n"
      }
    },
    {
      "cell_type": "code",
      "source": [
        "array_2D = [[2,4,6],\n",
        "            [3,5,9],\n",
        "            [1,7,8]]\n",
        "\n",
        "print(array_2D)"
      ],
      "metadata": {
        "colab": {
          "base_uri": "https://localhost:8080/"
        },
        "id": "HgyfehYUVPal",
        "outputId": "b2f99e18-d090-4a32-88b4-07980478c9a2"
      },
      "execution_count": 30,
      "outputs": [
        {
          "output_type": "stream",
          "name": "stdout",
          "text": [
            "[[2, 4, 6], [3, 5, 9], [1, 7, 8]]\n"
          ]
        }
      ]
    },
    {
      "cell_type": "code",
      "source": [
        "array_2D[2][1]"
      ],
      "metadata": {
        "colab": {
          "base_uri": "https://localhost:8080/"
        },
        "id": "iWzMs6DfWLSd",
        "outputId": "9efa2e13-ac59-44e7-e792-01c0cc995aa0"
      },
      "execution_count": 31,
      "outputs": [
        {
          "output_type": "execute_result",
          "data": {
            "text/plain": [
              "7"
            ]
          },
          "metadata": {},
          "execution_count": 31
        }
      ]
    }
  ],
  "metadata": {
    "colab": {
      "provenance": [],
      "authorship_tag": "ABX9TyOTE3eMrK1Zo0vQPb8/U/lo",
      "include_colab_link": true
    },
    "kernelspec": {
      "display_name": "Python 3",
      "name": "python3"
    },
    "language_info": {
      "name": "python"
    }
  },
  "nbformat": 4,
  "nbformat_minor": 0
}